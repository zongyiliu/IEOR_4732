import numpy as np
from scipy.stats import norm

def black_scholes_with_dividends(S0, K, T, r, sigma, q, option_type="call"):
    """
    Black-Scholes option pricing model with dividend yield.
    
    Parameters:
    S0 : float : Current stock price
    K  : float : Strike price
    T  : float : Time to expiration (in years)
    r  : float : Risk-free interest rate
    sigma : float : Volatility
    q  : float : Dividend yield (as a decimal, e.g., 0.03 for 3%)
    option_type : str : "call" for call option, "put" for put option
    
    Returns:
    float : Option price
    """
    d1 = (np.log(S0 / K) + (r - q + 0.5 * sigma**2) * T) / (sigma * np.sqrt(T))
    d2 = d1 - sigma * np.sqrt(T)
    
    if option_type == "call":
        price = S0 * np.exp(-q * T) * norm.cdf(d1) - K * np.exp(-r * T) * norm.cdf(d2)
    elif option_type == "put":
        price = K * np.exp(-r * T) * norm.cdf(-d2) - S0 * np.exp(-q * T) * norm.cdf(-d1)
    else:
        raise ValueError("Invalid option type. Choose 'call' or 'put'.")
    
    return price

# Example usage:
S0 = 100    # Current stock price
K = 80     # Strike price
T = 1       # Time to expiration (1 year)
r = 0.05    # Risk-free rate (5%)
sigma = 0.3 # Volatility (20%)
q = 0.01    # Dividend yield (3%)

call_price = black_scholes_with_dividends(S0, K, T, r, sigma, q, option_type="call")
put_price = black_scholes_with_dividends(S0, K, T, r, sigma, q, option_type="put")

print(f"Call Option Price (with Dividends): {call_price:.6f}")
print(f"Put Option Price (with Dividends): {put_price:.6f}")
