{
 "cells": [
  {
   "cell_type": "code",
   "execution_count": 16,
   "metadata": {
    "collapsed": true
   },
   "outputs": [],
   "source": [
    "import numpy as np\n",
    "from scipy.stats import norm\n",
    "import matplotlib.pyplot as plt\n",
    "import time"
   ]
  },
  {
   "cell_type": "code",
   "execution_count": 17,
   "metadata": {
    "collapsed": true
   },
   "outputs": [],
   "source": [
    "# Fixed Parameters\n",
    "S0 = 100\n",
    "K = 60\n",
    "r = 0.02\n",
    "q = 0.01\n",
    "sig = 0.35\n",
    "T = 1.0"
   ]
  },
  {
   "cell_type": "code",
   "execution_count": 18,
   "metadata": {
    "collapsed": true
   },
   "outputs": [],
   "source": [
    "# model under consideration\n",
    "model = 'LogNormal'"
   ]
  },
  {
   "cell_type": "code",
   "execution_count": 19,
   "metadata": {
    "collapsed": true
   },
   "outputs": [],
   "source": [
    "def logNormal(S, r, q, sig, S0, T):\n",
    "    \n",
    "    f = np.exp(-0.5*((np.log(S/S0)-(r-q-sig**2/2)*T)/(sig*np.sqrt(T)))**2)/(sig*S*np.sqrt(2*np.pi*T))\n",
    "    return f"
   ]
  },
  {
   "cell_type": "code",
   "execution_count": 20,
   "metadata": {
    "collapsed": true
   },
   "outputs": [],
   "source": [
    "# Black-Merton-Scholes calculator\n",
    "def BS_d1(S, K, r, q, sigma, tau):\n",
    "    ''' Computes d1 for the Black-Merton-Scholes formula '''\n",
    "    d1 = 1.0*(np.log(1.0 * S/K) + (r - q + sigma**2/2) * tau) / (sigma * np.sqrt(tau))\n",
    "    return d1\n",
    "\n",
    "def BS_d2(S, K, r, q, sigma, tau):\n",
    "    ''' Computes d2 for the Black-Merton-Scholes formula '''\n",
    "    d2 = 1.0*(np.log(1.0 * S/K) + (r - q - sigma**2/2) * tau) / (sigma * np.sqrt(tau))\n",
    "    return d2\n",
    "\n",
    "def BS_price(type_option, S, K, r, q, sigma, T, t=0):\n",
    "    ''' Computes the Black-Merton-Scholes price for a 'call' or 'put' option '''\n",
    "    tau = T - t\n",
    "    d1 = BS_d1(S, K, r, q, sigma, tau)\n",
    "    d2 = BS_d2(S, K, r, q, sigma, tau)\n",
    "    if type_option == 'call':\n",
    "        price = S * np.exp(-q * tau) * norm.cdf(d1) - K * np.exp(-r * tau) * norm.cdf(d2)\n",
    "    elif type_option == 'put':\n",
    "        price = K * np.exp(-r * tau) * norm.cdf(-d2) - S * np.exp(-q * tau) * norm.cdf(-d1) \n",
    "    return price\n",
    "\n",
    "# auxiliary function for computing implied vol\n",
    "def aux_imp_vol(sigma, P, type_option, S, K, r, q, T, t=0):\n",
    "    return P - BS_price(type_option, S, K, r, q, sigma, T, t)"
   ]
  },
  {
   "cell_type": "code",
   "execution_count": 21,
   "metadata": {
    "collapsed": true
   },
   "outputs": [],
   "source": [
    "def evaluateIntegral(*args):\n",
    "    \n",
    "    r   = args[0]\n",
    "    q   = args[1]\n",
    "    S0  = args[2]\n",
    "    K   = args[3]\n",
    "    sig = args[4]\n",
    "    T   = args[5]\n",
    "    N   = args[6]\n",
    "    dS  = args[7]\n",
    "    \n",
    "    #discount factor\n",
    "    df = np.exp(-r*T)\n",
    "    \n",
    "    #======================================================\n",
    "    # evaluation of the integral using Trapezoidal method\n",
    "    \n",
    "    # Calls & Puts are different \n",
    "    #------------------------------------------------------\n",
    "    \n",
    "    # Call -- integrate from K to B\n",
    "    sumC = 0\n",
    "    S = np.zeros((N,1))\n",
    "    for j in range(N):\n",
    "        S[j] = K+j*dS    \n",
    "    tmp = logNormal(S, r, q, sig, S0, T)\n",
    "    for j in range(N):\n",
    "        if j == 0:\n",
    "            wj = dS/2\n",
    "        else:\n",
    "            wj = dS\n",
    "        sumC += (S[j]-K)*tmp[j]*wj\n",
    "    c0_KT = df * sumC\n",
    "    \n",
    "    # Put - integrate from 0 to K\n",
    "    sumP = 0\n",
    "    S = np.zeros((N,1))\n",
    "    eta = (K-0.1)/N\n",
    "    #print(eta)\n",
    "    for j in range(N):\n",
    "        S[j] = 0.1+j*eta\n",
    "    tmp = logNormal(S, r, q, sig, S0, T)\n",
    "    for j in range(N):\n",
    "        if j == 0:\n",
    "            wj = eta/2\n",
    "        else:\n",
    "            wj = eta\n",
    "        sumP += (K-S[j])*tmp[j]*wj\n",
    "    p0_KT = df * sumP\n",
    "    \n",
    "    return p0_KT, c0_KT "
   ]
  },
  {
   "cell_type": "code",
   "execution_count": 23,
   "metadata": {},
   "outputs": [
    {
     "name": "stdout",
     "output_type": "stream",
     "text": [
      " \n",
      "===================\n",
      "Model is LogNormal\n",
      "-------------------\n",
      "\n",
      "B-M-S prices\n",
      "-----------------------------------------\n",
      "put price:  0.7954007162235186  call price:  40.988463692734996\n",
      "\n",
      "Prices via integration\n",
      "-----------------------------------------\n",
      "put price:  [0.79540058]  call price:  [40.98780838]\n",
      "\n",
      "elapsed time:  0.03797340393066406\n"
     ]
    }
   ],
   "source": [
    "#step-size\n",
    "dS = 1\n",
    "\n",
    "# number of grid points\n",
    "n = 12\n",
    "N = 2**n\n",
    "B = K + N*dS\n",
    "\n",
    "start_time = time.time()\n",
    "print(' ')\n",
    "print('===================')\n",
    "print('Model is %s' % model)\n",
    "print('-------------------')\n",
    "arg = (r, q, S0, K, sig, T, N, dS)\n",
    "p0_KT, c0_KT = evaluateIntegral(*arg)\n",
    "\n",
    "put = BS_price('put', S0, K, r, q, sig, T)\n",
    "call = BS_price('call', S0, K, r, q, sig, T)\n",
    "print('')\n",
    "print('B-M-S prices')\n",
    "print('-----------------------------------------')\n",
    "print(\"put price: \", put, \" call price: \", call)\n",
    "print('')\n",
    "print('Prices via integration')\n",
    "print('-----------------------------------------')\n",
    "print(\"put price: \", p0_KT, \" call price: \", c0_KT)\n",
    "elapsed_time = time.time() - start_time\n",
    "print('')\n",
    "print(\"elapsed time: \", elapsed_time)"
   ]
  },
  {
   "cell_type": "code",
   "execution_count": null,
   "metadata": {
    "collapsed": true
   },
   "outputs": [],
   "source": []
  }
 ],
 "metadata": {
  "kernelspec": {
   "display_name": "Python 3",
   "language": "python",
   "name": "python3"
  },
  "language_info": {
   "codemirror_mode": {
    "name": "ipython",
    "version": 3
   },
   "file_extension": ".py",
   "mimetype": "text/x-python",
   "name": "python",
   "nbconvert_exporter": "python",
   "pygments_lexer": "ipython3",
   "version": "3.6.3"
  }
 },
 "nbformat": 4,
 "nbformat_minor": 2
}
