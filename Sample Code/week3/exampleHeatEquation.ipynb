{
 "cells": [
  {
   "cell_type": "code",
   "execution_count": 16,
   "metadata": {
    "collapsed": true
   },
   "outputs": [],
   "source": [
    "import numpy as np\n",
    "import matplotlib.pyplot as plt\n",
    "import matplotlib\n",
    "#import time\n",
    "#%matplotlib auto\n",
    "#%matplotlib inline"
   ]
  },
  {
   "cell_type": "markdown",
   "metadata": {},
   "source": [
    "Parameters"
   ]
  },
  {
   "cell_type": "code",
   "execution_count": 17,
   "metadata": {
    "collapsed": true
   },
   "outputs": [],
   "source": [
    "a = 0\n",
    "b = 100\n",
    "\n",
    "kappa = 2\n",
    "T = 5"
   ]
  },
  {
   "cell_type": "markdown",
   "metadata": {},
   "source": [
    "This is needed for implicit Scheme"
   ]
  },
  {
   "cell_type": "code",
   "execution_count": 18,
   "metadata": {
    "collapsed": true
   },
   "outputs": [],
   "source": [
    "# this is needed for implicit Scheme\n",
    "def setUpDiagonals(N):\n",
    "    \n",
    "    # lower, diag, upper\n",
    "    l = np.zeros((N,1))\n",
    "    d = np.zeros((N,1))\n",
    "    u = np.zeros((N,1))\n",
    "    \n",
    "    for i in range(N):\n",
    "        l[i] = -rho\n",
    "        d[i] = 1 + 2*rho\n",
    "        u[i] = -rho\n",
    "        \n",
    "        \n",
    "    return l, d, u\n"
   ]
  },
  {
   "cell_type": "markdown",
   "metadata": {},
   "source": [
    "Tri-diagonal solver for implicit scheme"
   ]
  },
  {
   "cell_type": "code",
   "execution_count": 19,
   "metadata": {
    "collapsed": true
   },
   "outputs": [],
   "source": [
    "# Tri-diagonal solver for implicit scheme\n",
    "def diagSolver(l, d, u, b):\n",
    "    \n",
    "    '''\n",
    "    tri-diagonal solver\n",
    "    '''\n",
    "    N = len(d)\n",
    "    lL, dD, uU, bB = map(np.array, (l, d, u, b)) # copy arrays\n",
    "    for i in range(1, N):\n",
    "        tmp = lL[i-1]/dD[i-1]\n",
    "        dD[i] = dD[i] - tmp*uU[i-1] \n",
    "        bB[i] = bB[i] - tmp*bB[i-1]\n",
    "       \n",
    "    x = dD\n",
    "    x[-1] = bB[-1]/dD[-1]\n",
    "\n",
    "    for il in range(N-2, -1, -1):\n",
    "        x[il] = (bB[il]-uU[il]*x[il+1])/dD[il]\n",
    "\n",
    "    return x"
   ]
  },
  {
   "cell_type": "markdown",
   "metadata": {},
   "source": [
    "Stiffness matrix -- needed for explicit scheme"
   ]
  },
  {
   "cell_type": "code",
   "execution_count": 20,
   "metadata": {
    "collapsed": true
   },
   "outputs": [],
   "source": [
    "def formTheMatrix(N):\n",
    "    \n",
    "    A = np.zeros((N,N))\n",
    "    \n",
    "    for i in range(N):\n",
    "        \n",
    "        A[i,i] = 1-2*rho\n",
    "        \n",
    "        if (i<N-1):\n",
    "            A[i,i+1] = rho\n",
    "        \n",
    "        if (i>0):\n",
    "            A[i,i-1] = rho\n",
    "            \n",
    "    return A"
   ]
  },
  {
   "cell_type": "markdown",
   "metadata": {},
   "source": [
    "Initial Conditions"
   ]
  },
  {
   "cell_type": "code",
   "execution_count": 43,
   "metadata": {
    "collapsed": true
   },
   "outputs": [],
   "source": [
    "def initialCond(N):\n",
    "\n",
    "    #initial condition    \n",
    "    x = np.zeros((N,1))\n",
    "    u = np.ones((N,1))\n",
    "    for i in range(N):\n",
    "        x[i] = i\n",
    "        if (i>N/12) & (i<2*N/12):\n",
    "            u[i] = 1.0\n",
    "        elif (i>=2*N/12) & (i<3*N/12): \n",
    "            u[i] = 1.0\n",
    "        elif (i>=3*N/12) & (i<4*N/12): \n",
    "            u[i] = 1.0\n",
    "        elif (i>=4*N/12) & (i<5*N/12): \n",
    "            u[i] = 1.0\n",
    "        elif (i>=5*N/12) & (i<7*N/12): \n",
    "            u[i] = 1.0  \n",
    "        elif (i>=7*N/12) & (i<8*N/12): \n",
    "            u[i] = 1.0\n",
    "        elif (i>=8*N/12) & (i<9*N/12): \n",
    "            u[i] = 1.0 \n",
    "        elif (i>=9*N/12) & (i<10*N/12): \n",
    "            u[i] = 1.0\n",
    "        elif (i>=10*N/12) & (i<11*N/12): \n",
    "            u[i] = 1.0 \n",
    "\n",
    "        #if (i<N/2) & (i>N/4):\n",
    "        #    u[i] = i-N/4.0\n",
    "        #elif (i>=N/2) & (i<3*N/4):\n",
    "        #    u[i] = 3.0*N/4.0-i\n",
    "        \n",
    "    return x, u"
   ]
  },
  {
   "cell_type": "markdown",
   "metadata": {},
   "source": [
    "Set up and checking CFL condition, in case using \"explicit\" scheme"
   ]
  },
  {
   "cell_type": "code",
   "execution_count": 44,
   "metadata": {
    "scrolled": true
   },
   "outputs": [
    {
     "name": "stdout",
     "output_type": "stream",
     "text": [
      "CFL condition is met\n"
     ]
    }
   ],
   "source": [
    "\n",
    "N = 100\n",
    "M = 200\n",
    "\n",
    "dX = (b-a)/N\n",
    "dT = T/M\n",
    "\n",
    "rho = kappa*dT/(dX*dX)\n",
    "\n",
    "scheme = 'explicit'\n",
    "\n",
    "if scheme == 'explicit':\n",
    "    \n",
    "    #check for CFL condition \n",
    "    if (dT < dX*dX/(2.0*kappa)):\n",
    "        print('CFL condition is met')\n",
    "    else:\n",
    "        print('CFL condition is NOT met')\n",
    "        \n",
    "    # set up the matrix\n",
    "    # used for explicit\n",
    "    A = formTheMatrix(N)\n",
    "        \n",
    "        \n",
    "elif scheme == 'implicit':\n",
    "    # set up a diagonal matrix\n",
    "    # used for implicit\n",
    "    lL, dD, uU = setUpDiagonals(N) \n",
    "        "
   ]
  },
  {
   "cell_type": "markdown",
   "metadata": {},
   "source": [
    "Main"
   ]
  },
  {
   "cell_type": "code",
   "execution_count": 45,
   "metadata": {},
   "outputs": [
    {
     "data": {
      "image/png": "[encoded data removed]",
      "text/plain": [
       "<matplotlib.figure.Figure at 0x23de5ea9e10>"
      ]
     },
     "metadata": {},
     "output_type": "display_data"
    }
   ],
   "source": [
    "\n",
    "x, u = initialCond(N)\n",
    "\n",
    "plt.figure(figsize=(20,10))  \n",
    "plt.plot(x, u)\n",
    "\n",
    "\n",
    "#how many iterations\n",
    "m = 5\n",
    "for j in range(m):\n",
    "    \n",
    "    #print('iter = %s' % (str(j)))\n",
    "    \n",
    "    if scheme == 'implicit':\n",
    "        u = diagSolver(lL, dD, uU, u)\n",
    "    elif scheme == 'explicit':\n",
    "        u = np.matmul(A, u)\n",
    "\n",
    "    plt.plot(x, u)\n",
    "    plt.grid(True)\n",
    "    plt.xlabel('$x$')\n",
    "    plt.ylabel('$u(x,\\tau$)')\n",
    "\n",
    "plt.show()"
   ]
  },
  {
   "cell_type": "code",
   "execution_count": null,
   "metadata": {
    "collapsed": true
   },
   "outputs": [],
   "source": []
  }
 ],
 "metadata": {
  "kernelspec": {
   "display_name": "Python 3",
   "language": "python",
   "name": "python3"
  },
  "language_info": {
   "codemirror_mode": {
    "name": "ipython",
    "version": 3
   },
   "file_extension": ".py",
   "mimetype": "text/x-python",
   "name": "python",
   "nbconvert_exporter": "python",
   "pygments_lexer": "ipython3",
   "version": "3.6.3"
  }
 },
 "nbformat": 4,
 "nbformat_minor": 2
}
