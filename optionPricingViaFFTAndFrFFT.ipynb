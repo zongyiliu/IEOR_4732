{
 "cells": [
  {
   "cell_type": "code",
   "execution_count": 43,
   "metadata": {
    "collapsed": true
   },
   "outputs": [],
   "source": [
    "import warnings\n",
    "warnings.filterwarnings(\"ignore\")\n",
    "\n",
    "import numpy as np\n",
    "import cmath\n",
    "import math\n",
    "import time"
   ]
  },
  {
   "cell_type": "code",
   "execution_count": 44,
   "metadata": {
    "collapsed": true
   },
   "outputs": [],
   "source": [
    "# Fixed Parameters\n",
    "S0 = 100\n",
    "K = 80\n",
    "k = math.log(K)\n",
    "r = 0.05\n",
    "q = 0.01"
   ]
  },
  {
   "cell_type": "code",
   "execution_count": 45,
   "metadata": {
    "collapsed": true
   },
   "outputs": [],
   "source": [
    "# Parameters for FFT and FrFFT \n",
    "\n",
    "n_FFT = 12\n",
    "N_FFT = 2**n_FFT\n",
    "\n",
    "n_FrFFT = 7\n",
    "N_FrFFT = 2**n_FrFFT\n",
    "\n",
    "N = 1000\n",
    "\n",
    "#step-size\n",
    "eta = 0.25\n",
    "# damping factor\n",
    "alpha = 1.5\n"
   ]
  },
  {
   "cell_type": "code",
   "execution_count": 46,
   "metadata": {
    "collapsed": true
   },
   "outputs": [],
   "source": [
    "# step-size in log strike space\n",
    "lda_FFT = (2*math.pi/N_FFT)/eta # lda is fixed under FFT\n",
    "lda_FrFFT = 0.001 # lda is an adjustable parameter under FrFFT, \n",
    "\n",
    "\n",
    "#Choice of beta\n",
    "beta = np.log(S0)-N*lda_FFT/2\n",
    "#beta = np.log(S0)-N*lda_FrFFT/2\n",
    "#beta = np.log(K)"
   ]
  },
  {
   "cell_type": "code",
   "execution_count": 47,
   "metadata": {
    "collapsed": true
   },
   "outputs": [],
   "source": [
    "#model-specific Parameters\n",
    "model = 'VG'"
   ]
  },
  {
   "cell_type": "code",
   "execution_count": 48,
   "metadata": {
    "collapsed": true
   },
   "outputs": [],
   "source": [
    "params = []     \n",
    "if (model == 'GBM'):\n",
    "    \n",
    "    sig = 0.30\n",
    "    params.append(sig);\n",
    "    \n",
    "elif (model == 'VG'):\n",
    "    \n",
    "    sig = 0.3\n",
    "    nu = 0.5\n",
    "    theta = -0.4\n",
    "    #\n",
    "    params.append(sig);\n",
    "    params.append(nu);\n",
    "    params.append(theta);\n",
    "    \n",
    "elif (model == 'Heston'):\n",
    "    \n",
    "    kappa = 2.0\n",
    "    theta = 0.05\n",
    "    sig = 0.30\n",
    "    rho = -0.70\n",
    "    v0 = 0.04\n",
    "    #\n",
    "    params.append(kappa)\n",
    "    params.append(theta)\n",
    "    params.append(sig)\n",
    "    params.append(rho)\n",
    "    params.append(v0)\n",
    "    "
   ]
  },
  {
   "cell_type": "code",
   "execution_count": 49,
   "metadata": {
    "collapsed": true
   },
   "outputs": [],
   "source": [
    "def generic_CF(u, params, S0, r, q, T, model):\n",
    "    \n",
    "    if (model == 'GBM'):\n",
    "        \n",
    "        sig = params[0]\n",
    "        mu = np.log(S0) + (r-q-sig**2/2)*T\n",
    "        a = sig*np.sqrt(T)\n",
    "        phi = np.exp(1j*mu*u-(a*u)**2/2)\n",
    "        \n",
    "    elif(model == 'Heston'):\n",
    "        \n",
    "        kappa  = params[0]\n",
    "        theta  = params[1]\n",
    "        sigma  = params[2]\n",
    "        rho    = params[3]\n",
    "        v0     = params[4]\n",
    "        \n",
    "        tmp = (kappa-1j*rho*sigma*u)\n",
    "        g = np.sqrt((sigma**2)*(u**2+1j*u)+tmp**2)\n",
    "        \n",
    "        pow1 = 2*kappa*theta/(sigma**2)\n",
    "        \n",
    "        numer1 = (kappa*theta*T*tmp)/(sigma**2) + 1j*u*T*r + 1j*u*math.log(S0)\n",
    "        log_denum1 = pow1 * np.log(np.cosh(g*T/2)+(tmp/g)*np.sinh(g*T/2))\n",
    "        tmp2 = ((u*u+1j*u)*v0)/(g/np.tanh(g*T/2)+tmp)\n",
    "        log_phi = numer1 - log_denum1 - tmp2\n",
    "        phi = np.exp(log_phi)\n",
    "        \n",
    "        #g = np.sqrt((kappa-1j*rho*sigma*u)**2+(u*u+1j*u)*sigma*sigma)\n",
    "        #beta = kappa-rho*sigma*1j*u\n",
    "        #tmp = g*T/2\n",
    "        \n",
    "        #temp1 = 1j*(np.log(S0)+(r-q)*T)*u + kappa*theta*T*beta/(sigma*sigma)\n",
    "        #temp2 = -(u*u+1j*u)*v0/(g/np.tanh(tmp)+beta)\n",
    "        #temp3 = (2*kappa*theta/(sigma*sigma))*np.log(np.cosh(tmp)+(beta/g)*np.sinh(tmp))\n",
    "        \n",
    "        #phi = np.exp(temp1+temp2-temp3);\n",
    "        \n",
    "\n",
    "    elif (model == 'VG'):\n",
    "        \n",
    "        sigma  = params[0];\n",
    "        nu     = params[1];\n",
    "        theta  = params[2];\n",
    "\n",
    "        if (nu == 0):\n",
    "            mu = np.log(S0) + (r-q - theta -0.5*sigma**2)*T\n",
    "            phi  = np.exp(1j*u*mu) * np.exp((1j*theta*u-0.5*sigma**2*u**2)*T)\n",
    "        else:\n",
    "            mu  = np.log(S0) + (r-q + np.log(1-theta*nu-0.5*sigma**2*nu)/nu)*T\n",
    "            phi = np.exp(1j*u*mu)*((1-1j*nu*theta*u+0.5*nu*sigma**2*u**2)**(-T/nu))\n",
    "\n",
    "    return phi"
   ]
  },
  {
   "cell_type": "code",
   "execution_count": 50,
   "metadata": {
    "collapsed": true
   },
   "outputs": [],
   "source": [
    "def evaluateIntegral(params, S0, K, r, q, T, alpha, eta, N, model):\n",
    "    \n",
    "    # Just one strike at a time\n",
    "    # no need for Fast Fourier Transform\n",
    "    \n",
    "    # discount factor\n",
    "    df = math.exp(-r*T)\n",
    "    \n",
    "    sum1 = 0\n",
    "    for j in range(N):\n",
    "        nuJ = j*eta\n",
    "        psi_nuJ = df*generic_CF(nuJ-(alpha+1)*1j, params, S0, r, q, T, model)/((alpha + 1j*nuJ)*(alpha+1+1j*nuJ))\n",
    "        if j == 0:\n",
    "            wJ = (eta/2)\n",
    "        else:\n",
    "            wJ = eta\n",
    "        sum1 += np.exp(-1j*nuJ*k)*psi_nuJ*wJ\n",
    "        \n",
    "    cT_k = (np.exp(-alpha*k)/math.pi)*sum1\n",
    "    \n",
    "    return np.real(cT_k) "
   ]
  },
  {
   "cell_type": "code",
   "execution_count": 51,
   "metadata": {
    "collapsed": true
   },
   "outputs": [],
   "source": [
    "def genericFFT(params, S0, K, r, q, T, alpha, eta, n, model):\n",
    "    \n",
    "    N = 2**n\n",
    "    \n",
    "    # step-size in log strike space\n",
    "    lda = (2*np.pi/N)/eta\n",
    "    \n",
    "    #Choice of beta\n",
    "    #beta = np.log(S0)-N*lda/2\n",
    "    #beta = np.log(K)\n",
    "    \n",
    "    # forming vector x and strikes km for m=1,...,N\n",
    "    km = np.zeros((N))\n",
    "    xX = np.zeros((N))\n",
    "    \n",
    "    # discount factor\n",
    "    df = math.exp(-r*T)\n",
    "    \n",
    "    nuJ = np.arange(N)*eta\n",
    "    psi_nuJ = generic_CF(nuJ-(alpha+1)*1j, params, S0, r, q, T, model)/((alpha + 1j*nuJ)*(alpha+1+1j*nuJ))\n",
    "    \n",
    "    for j in range(N):  \n",
    "        km[j] = beta+j*lda\n",
    "        if j == 0:\n",
    "            wJ = (eta/2)\n",
    "        else:\n",
    "            wJ = eta\n",
    "            \n",
    "        xX[j] = np.exp(-1j*beta*nuJ[j])*df*psi_nuJ[j]*wJ\n",
    "     \n",
    "    yY = np.fft.fft(xX)\n",
    "    cT_km = np.zeros((N))  \n",
    "    for i in range(N):\n",
    "        multiplier = np.exp(-alpha*km[i])/math.pi\n",
    "        cT_km[i] = multiplier*np.real(yY[i])\n",
    "    \n",
    "    return km, cT_km"
   ]
  },
  {
   "cell_type": "code",
   "execution_count": 52,
   "metadata": {
    "collapsed": true
   },
   "outputs": [],
   "source": [
    "def genericFrFFT(params, S0, K, r, q, T, alpha, eta, n, lda, model):\n",
    "    \n",
    "    N = 2**n\n",
    "    gamma = eta*lda/(2*math.pi)\n",
    "\n",
    "    #Choice of beta\n",
    "    #beta = np.log(S0)-N*lda/2\n",
    "    beta = np.log(K)\n",
    "\n",
    "    # initialize x, y, z, and cT_km\n",
    "    km = np.zeros((N))\n",
    "    x = np.zeros((N))\n",
    "    y = np.zeros((2*N), dtype=np.complex)\n",
    "    z = np.zeros((2*N), dtype=np.complex)\n",
    "    cT_km = np.zeros((N)) \n",
    "\n",
    "    # discount factor\n",
    "    df = math.exp(-r*T)\n",
    "\n",
    "    # compute x\n",
    "    nuJ = np.arange(N)*eta\n",
    "    psi_nuJ = generic_CF(nuJ-(alpha+1)*1j, params, S0, r, q, T, model)/((alpha + 1j*nuJ)*(alpha+1+1j*nuJ))\n",
    "\n",
    "    for j in range(N):  \n",
    "        km[j] = beta+j*lda\n",
    "        if j == 0:\n",
    "            wJ = (eta/2)\n",
    "        else:\n",
    "            wJ = eta\n",
    "        x[j] = np.exp(-1j*beta*nuJ[j])*df*psi_nuJ[j]*wJ\n",
    "\n",
    "    # set up y\n",
    "    for i in range(N):\n",
    "        y[i] = np.exp(-1j*math.pi*gamma*i**2)*x[i]\n",
    "    y[N:] = 0\n",
    "\n",
    "    # set up z\n",
    "    for i in range(N):\n",
    "        z[i] = np.exp(1j*math.pi*gamma*i**2)\n",
    "    z[N:] = z[:N][::-1]\n",
    "\n",
    "    # compute xi_hat\n",
    "    xi_hat = np.fft.ifft(np.fft.fft(y) * np.fft.fft(z))\n",
    "\n",
    "    # compute call prices\n",
    "    for i in range(N):\n",
    "        cT_km[i] = np.exp(-alpha*(beta + i*lda))/math.pi * (np.exp(-1j*math.pi*gamma*i**2)*xi_hat[i]).real\n",
    "\n",
    "    return km, cT_km"
   ]
  },
  {
   "cell_type": "code",
   "execution_count": 53,
   "metadata": {},
   "outputs": [
    {
     "name": "stdout",
     "output_type": "stream",
     "text": [
      " \n",
      "===================\n",
      "Model is VG\n",
      "-------------------\n",
      " \n",
      "Option via FFT: for strike 79.99999999999997 the option premium is 14.1198\n",
      "FFT execution time was 0.0269840\n",
      " \n",
      "Option via FrFFT: for strike 79.99999999999997 the option premium is 28.2203\n",
      "FrFFT execution time was 0.0020213\n",
      " \n",
      "Option via Integration: for strike 79.99999999999997 the option premium is 28.2203\n",
      "Evaluation of integral time was 0.0089939\n"
     ]
    }
   ],
   "source": [
    "print(' ')\n",
    "print('===================')\n",
    "print('Model is %s' % model)\n",
    "print('-------------------')\n",
    "    \n",
    "T = 1\n",
    "\n",
    "# FFT\n",
    "print(' ')\n",
    "start_time = time.time()\n",
    "km, cT_km = genericFFT(params, S0, K, r, q, T, alpha, eta, n_FFT, model)\n",
    "#cT_k = cT_km[0]\n",
    "cT_k = np.interp(k, km, cT_km)\n",
    "\n",
    "elapsed_time = time.time() - start_time\n",
    "    \n",
    "#cT_k = np.interp(np.log(k), km, cT_km)\n",
    "print(\"Option via FFT: for strike %s the option premium is %6.4f\" % (np.exp(k), cT_k))\n",
    "#print(\"Option via FFT: for strike %s the option premium is %6.4f\" % (np.exp(k), cT_km[0]))\n",
    "print('FFT execution time was %0.7f' % elapsed_time)\n",
    "\n",
    "# FrFFT\n",
    "print(' ')\n",
    "start_time = time.time()\n",
    "km, cT_km = genericFrFFT(params, S0, K, r, q, T, alpha, eta, n_FrFFT, lda_FrFFT, model)\n",
    "#cT_k = cT_km[0]\n",
    "cT_k = np.interp(k, km, cT_km)\n",
    "\n",
    "elapsed_time = time.time() - start_time\n",
    "    \n",
    "#cT_k = np.interp(np.log(), km, cT_km)\n",
    "print(\"Option via FrFFT: for strike %s the option premium is %6.4f\" % (np.exp(k), cT_k))\n",
    "#print(\"Option via FFT: for strike %s the option premium is %6.4f\" % (np.exp(k), cT_km[0]))\n",
    "print('FrFFT execution time was %0.7f' % elapsed_time)\n",
    "\n",
    "\n",
    "# Integral\n",
    "print(' ')\n",
    "start_time = time.time()\n",
    "cT_k = evaluateIntegral(params, S0, K, r, q, T, alpha, eta, N, model)\n",
    "elapsed_time = time.time() - start_time\n",
    "print(\"Option via Integration: for strike %s the option premium is %6.4f\" % (np.exp(k), cT_k))\n",
    "print('Evaluation of integral time was %0.7f' % elapsed_time)"
   ]
  },
  {
   "cell_type": "markdown",
   "metadata": {
    "collapsed": true
   },
   "source": []
  },
  {
   "cell_type": "code",
   "execution_count": null,
   "metadata": {
    "collapsed": true
   },
   "outputs": [],
   "source": []
  }
 ],
 "metadata": {
  "kernelspec": {
   "display_name": "Python 3",
   "language": "python",
   "name": "python3"
  },
  "language_info": {
   "codemirror_mode": {
    "name": "ipython",
    "version": 3
   },
   "file_extension": ".py",
   "mimetype": "text/x-python",
   "name": "python",
   "nbconvert_exporter": "python",
   "pygments_lexer": "ipython3",
   "version": "3.6.3"
  }
 },
 "nbformat": 4,
 "nbformat_minor": 2
}
